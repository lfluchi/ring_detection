{
  "nbformat": 4,
  "nbformat_minor": 0,
  "metadata": {
    "colab": {
      "name": "CNN_anel_over_s.ipynb",
      "provenance": [],
      "collapsed_sections": [],
      "mount_file_id": "1_eYmybZ8xvdNWtVTm1ud9WlQd6Amw2dA",
      "authorship_tag": "ABX9TyOrJw0GW+jYdgriKeA4wlxw",
      "include_colab_link": true
    },
    "kernelspec": {
      "name": "python3",
      "display_name": "Python 3"
    },
    "accelerator": "GPU"
  },
  "cells": [
    {
      "cell_type": "markdown",
      "metadata": {
        "id": "view-in-github",
        "colab_type": "text"
      },
      "source": [
        "<a href=\"https://colab.research.google.com/github/lfluchi/ring_detection/blob/master/CNN_anel_over_s.ipynb\" target=\"_parent\"><img src=\"https://colab.research.google.com/assets/colab-badge.svg\" alt=\"Open In Colab\"/></a>"
      ]
    },
    {
      "cell_type": "code",
      "metadata": {
        "id": "XlxeuGizFGS_",
        "colab_type": "code",
        "colab": {}
      },
      "source": [
        "#imports\n",
        "import os, shutil, random, glob\n",
        "import numpy as np\n",
        "from keras.preprocessing.image import ImageDataGenerator, load_img, img_to_array, array_to_img\n",
        "from keras import models\n",
        "from keras import layers\n",
        "from keras import optimizers\n",
        "from keras import metrics\n",
        "from keras import backend as K\n",
        "from sklearn.metrics import confusion_matrix, classification_report, f1_score, precision_score, recall_score\n",
        "import matplotlib.pyplot as plt\n",
        "import h5py\n",
        "import itertools\n",
        "%matplotlib inline"
      ],
      "execution_count": 11,
      "outputs": []
    },
    {
      "cell_type": "code",
      "metadata": {
        "id": "EP_Q9cK1FyAp",
        "colab_type": "code",
        "colab": {}
      },
      "source": [
        "#paths to load datasets\n",
        "hdf5_train = '/content/drive/My Drive/Trabalho conclusão Lucas/Imagens/hdf5/12134_train_164_215_3.h5'\n",
        "hdf5_valid = '/content/drive/My Drive/Trabalho conclusão Lucas/Imagens/hdf5/2058_valid_164_215_3.h5'"
      ],
      "execution_count": 2,
      "outputs": []
    },
    {
      "cell_type": "code",
      "metadata": {
        "id": "EV4H5CTzGVv6",
        "colab_type": "code",
        "colab": {
          "base_uri": "https://localhost:8080/",
          "height": 35
        },
        "outputId": "5adc41c7-5e87-4d50-8d7a-0482bc0ba772"
      },
      "source": [
        "#trainning data shape\n",
        "with h5py.File(hdf5_train, \"r\") as f:\n",
        "        \n",
        "    train_imgs = f[\"images\"][:]\n",
        "    train_labels = f[\"meta\"][:]\n",
        "\n",
        "    print('train_imgs shape =', train_imgs.shape, '| train_labels shape =', train_labels.shape)"
      ],
      "execution_count": 3,
      "outputs": [
        {
          "output_type": "stream",
          "text": [
            "train_imgs shape = (12134, 164, 215, 3) | train_labels shape = (12134,)\n"
          ],
          "name": "stdout"
        }
      ]
    },
    {
      "cell_type": "code",
      "metadata": {
        "id": "WdN7uaFyHb02",
        "colab_type": "code",
        "colab": {
          "base_uri": "https://localhost:8080/",
          "height": 35
        },
        "outputId": "bf5c02be-06ba-46ba-d69f-bfcafb706905"
      },
      "source": [
        "#validation data shape\n",
        "with h5py.File(hdf5_valid, \"r\") as f:\n",
        "    \n",
        "    valid_imgs = f[\"images\"][:]\n",
        "    valid_labels = f[\"meta\"][:]\n",
        "\n",
        "    print('valid_imgs shape =', valid_imgs.shape, '| valid_labels shape =', valid_labels.shape)"
      ],
      "execution_count": 4,
      "outputs": [
        {
          "output_type": "stream",
          "text": [
            "valid_imgs shape = (2058, 164, 215, 3) | valid_labels shape = (2058,)\n"
          ],
          "name": "stdout"
        }
      ]
    },
    {
      "cell_type": "code",
      "metadata": {
        "id": "vSaOSyUcIBWd",
        "colab_type": "code",
        "colab": {
          "base_uri": "https://localhost:8080/",
          "height": 53
        },
        "outputId": "4dcbbc56-62e1-4d68-c8e8-77fed8e51231"
      },
      "source": [
        "#label of a img\n",
        "index = 0\n",
        "image = train_imgs[index]\n",
        "print(image.shape)\n",
        "#plt.imshow(image)\n",
        "print('label =', train_labels[index])"
      ],
      "execution_count": 5,
      "outputs": [
        {
          "output_type": "stream",
          "text": [
            "(164, 215, 3)\n",
            "label = 1\n"
          ],
          "name": "stdout"
        }
      ]
    },
    {
      "cell_type": "code",
      "metadata": {
        "id": "16wn9xLhkSL7",
        "colab_type": "code",
        "colab": {}
      },
      "source": [
        "#reescale images\n",
        "train_imgs_scaled = train_imgs.astype('float32')\n",
        "valid_imgs_scaled  = valid_imgs.astype('float32')\n",
        "train_imgs_scaled /= 255\n",
        "valid_imgs_scaled /= 255"
      ],
      "execution_count": 6,
      "outputs": []
    },
    {
      "cell_type": "code",
      "metadata": {
        "id": "rqoj3xJnkcgR",
        "colab_type": "code",
        "colab": {}
      },
      "source": [
        "#visualize\n",
        "print(train_imgs[0].shape)\n",
        "array_to_img(train_imgs[0])"
      ],
      "execution_count": null,
      "outputs": []
    },
    {
      "cell_type": "code",
      "metadata": {
        "id": "rtLjenRnmg5q",
        "colab_type": "code",
        "colab": {
          "base_uri": "https://localhost:8080/",
          "height": 35
        },
        "outputId": "a58b9ba2-c6ca-486c-846b-73066e662783"
      },
      "source": [
        "#visualize some labels\n",
        "print(train_labels[1495:1505])"
      ],
      "execution_count": 7,
      "outputs": [
        {
          "output_type": "stream",
          "text": [
            "[1 1 1 1 1 1 1 1 1 1]\n"
          ],
          "name": "stdout"
        }
      ]
    },
    {
      "cell_type": "code",
      "metadata": {
        "id": "DK3hC2xMkgsq",
        "colab_type": "code",
        "colab": {}
      },
      "source": [
        "#set up some basic configuration parameters\n",
        "batch_size = 36\n",
        "num_classes = 2\n",
        "epochs = 8\n",
        "input_shape = (164, 215, 3)"
      ],
      "execution_count": 10,
      "outputs": []
    },
    {
      "cell_type": "code",
      "metadata": {
        "id": "PSWpxdatR1QP",
        "colab_type": "code",
        "colab": {}
      },
      "source": [
        "#create model\n",
        "model = models.Sequential()"
      ],
      "execution_count": 11,
      "outputs": []
    },
    {
      "cell_type": "code",
      "metadata": {
        "id": "VxDMsCXzR14b",
        "colab_type": "code",
        "colab": {}
      },
      "source": [
        "#model architecture\n",
        "model.add(layers.Conv2D(32, (3,3), activation='relu',\n",
        "                        input_shape=input_shape))\n",
        "model.add(layers.Conv2D(32, (3,3), activation='relu'))\n",
        "model.add(layers.MaxPool2D((2,2)))\n",
        "model.add(layers.Conv2D(64, (3,3), activation='relu'))\n",
        "model.add(layers.Conv2D(64, (3,3), activation='relu'))\n",
        "model.add(layers.MaxPool2D((2,2)))\n",
        "model.add(layers.Conv2D(64, (3,3), activation='relu'))\n",
        "model.add(layers.Conv2D(128, (3,3), activation='relu'))\n",
        "model.add(layers.MaxPool2D((2,2)))\n",
        "#model.add(layers.Conv2D(128, (3,3), activation='relu'))\n",
        "#model.add(layers.MaxPool2D((2,2)))\n",
        "model.add(layers.Conv2D(256, (3,3), activation='relu'))\n",
        "model.add(layers.MaxPool2D((2,2)))\n",
        "model.add(layers.Flatten())\n",
        "model.add(layers.Dense(512, activation='relu'))\n",
        "model.add(layers.Dense(1024, activation='relu'))\n",
        "#model.add(layers.Dense(1024, activation='relu'))\n",
        "model.add(layers.Dense(256, activation='relu'))\n",
        "model.add(layers.Dense(1, activation='sigmoid'))"
      ],
      "execution_count": 12,
      "outputs": []
    },
    {
      "cell_type": "code",
      "metadata": {
        "id": "V5HZquFcDfqC",
        "colab_type": "code",
        "colab": {
          "base_uri": "https://localhost:8080/",
          "height": 744
        },
        "outputId": "a2bdc6dd-b3db-4383-c505-9357c11fe9aa"
      },
      "source": [
        "model.summary()"
      ],
      "execution_count": 13,
      "outputs": [
        {
          "output_type": "stream",
          "text": [
            "Model: \"sequential\"\n",
            "_________________________________________________________________\n",
            "Layer (type)                 Output Shape              Param #   \n",
            "=================================================================\n",
            "conv2d (Conv2D)              (None, 162, 213, 32)      896       \n",
            "_________________________________________________________________\n",
            "conv2d_1 (Conv2D)            (None, 160, 211, 32)      9248      \n",
            "_________________________________________________________________\n",
            "max_pooling2d (MaxPooling2D) (None, 80, 105, 32)       0         \n",
            "_________________________________________________________________\n",
            "conv2d_2 (Conv2D)            (None, 78, 103, 64)       18496     \n",
            "_________________________________________________________________\n",
            "conv2d_3 (Conv2D)            (None, 76, 101, 64)       36928     \n",
            "_________________________________________________________________\n",
            "max_pooling2d_1 (MaxPooling2 (None, 38, 50, 64)        0         \n",
            "_________________________________________________________________\n",
            "conv2d_4 (Conv2D)            (None, 36, 48, 64)        36928     \n",
            "_________________________________________________________________\n",
            "conv2d_5 (Conv2D)            (None, 34, 46, 128)       73856     \n",
            "_________________________________________________________________\n",
            "max_pooling2d_2 (MaxPooling2 (None, 17, 23, 128)       0         \n",
            "_________________________________________________________________\n",
            "conv2d_6 (Conv2D)            (None, 15, 21, 256)       295168    \n",
            "_________________________________________________________________\n",
            "max_pooling2d_3 (MaxPooling2 (None, 7, 10, 256)        0         \n",
            "_________________________________________________________________\n",
            "flatten (Flatten)            (None, 17920)             0         \n",
            "_________________________________________________________________\n",
            "dense (Dense)                (None, 512)               9175552   \n",
            "_________________________________________________________________\n",
            "dense_1 (Dense)              (None, 1024)              525312    \n",
            "_________________________________________________________________\n",
            "dense_2 (Dense)              (None, 256)               262400    \n",
            "_________________________________________________________________\n",
            "dense_3 (Dense)              (None, 1)                 257       \n",
            "=================================================================\n",
            "Total params: 10,435,041\n",
            "Trainable params: 10,435,041\n",
            "Non-trainable params: 0\n",
            "_________________________________________________________________\n"
          ],
          "name": "stdout"
        }
      ]
    },
    {
      "cell_type": "code",
      "metadata": {
        "id": "rks7A5lnSgeo",
        "colab_type": "code",
        "colab": {}
      },
      "source": [
        "model.compile(loss='binary_crossentropy',\n",
        "              optimizer=optimizers.RMSprop(),#SGD(lr=0.01, clipvalue=0.5),\n",
        "              metrics=['acc'])"
      ],
      "execution_count": 14,
      "outputs": []
    },
    {
      "cell_type": "code",
      "metadata": {
        "id": "JYClZzngNuig",
        "colab_type": "code",
        "colab": {
          "base_uri": "https://localhost:8080/",
          "height": 346
        },
        "outputId": "ad761e91-1364-4c3a-ab2f-f1408d6284f2"
      },
      "source": [
        "#train\n",
        "history = model.fit(x=train_imgs_scaled, y=train_labels,\n",
        "                    validation_data=(valid_imgs_scaled, valid_labels),\n",
        "                    batch_size=batch_size,\n",
        "                    epochs=epochs,\n",
        "                    verbose=1)"
      ],
      "execution_count": 15,
      "outputs": [
        {
          "output_type": "stream",
          "text": [
            "Epoch 1/8\n",
            "  2/338 [..............................] - ETA: 15s - loss: 4.1409 - acc: 0.5556WARNING:tensorflow:Callbacks method `on_train_batch_end` is slow compared to the batch time (batch time: 0.0304s vs `on_train_batch_end` time: 0.0590s). Check your callbacks.\n",
            "338/338 [==============================] - 33s 98ms/step - loss: 0.6766 - acc: 0.6347 - val_loss: 0.0682 - val_acc: 0.9791\n",
            "Epoch 2/8\n",
            "338/338 [==============================] - 34s 100ms/step - loss: 0.3164 - acc: 0.9588 - val_loss: 0.0027 - val_acc: 0.9995\n",
            "Epoch 3/8\n",
            "338/338 [==============================] - 33s 97ms/step - loss: 0.0568 - acc: 0.9871 - val_loss: 4.2749e-06 - val_acc: 1.0000\n",
            "Epoch 4/8\n",
            "338/338 [==============================] - 33s 97ms/step - loss: 0.0611 - acc: 0.9932 - val_loss: 0.0074 - val_acc: 0.9985\n",
            "Epoch 5/8\n",
            "338/338 [==============================] - 33s 97ms/step - loss: 0.0266 - acc: 0.9959 - val_loss: 0.0275 - val_acc: 0.9995\n",
            "Epoch 6/8\n",
            "338/338 [==============================] - 33s 97ms/step - loss: 0.0278 - acc: 0.9986 - val_loss: 1.4234e-04 - val_acc: 1.0000\n",
            "Epoch 7/8\n",
            "338/338 [==============================] - 33s 97ms/step - loss: 0.0253 - acc: 0.9988 - val_loss: 0.0081 - val_acc: 0.9995\n",
            "Epoch 8/8\n",
            "338/338 [==============================] - 33s 97ms/step - loss: 0.1179 - acc: 0.9985 - val_loss: 0.0025 - val_acc: 0.9995\n"
          ],
          "name": "stdout"
        }
      ]
    },
    {
      "cell_type": "code",
      "metadata": {
        "id": "Bl6nYwTX8XJj",
        "colab_type": "code",
        "colab": {}
      },
      "source": [
        "model.save('/content/drive/My Drive/Trabalho conclusão Lucas/modelos/anel_reten_over_2.h5')"
      ],
      "execution_count": 16,
      "outputs": []
    },
    {
      "cell_type": "code",
      "metadata": {
        "id": "B2OO1QtqsdRM",
        "colab_type": "code",
        "colab": {
          "base_uri": "https://localhost:8080/",
          "height": 308
        },
        "outputId": "dc16b25b-b8de-449d-cdf4-e4a847158fc3"
      },
      "source": [
        "f, (ax1, ax2) = plt.subplots(1, 2, figsize=(12, 4))\n",
        "t = f.suptitle('CNN with oversampling performance', fontsize=12)\n",
        "f.subplots_adjust(top=0.85, wspace=0.3)\n",
        "\n",
        "epoch_list = list(range(1,9))\n",
        "ax1.plot(epoch_list, history.history['acc'], label='Train Accuracy')\n",
        "ax1.plot(epoch_list, history.history['val_acc'], label='Validation Accuracy')\n",
        "ax1.set_xticks(np.arange(0, 9, 1))\n",
        "ax1.set_ylabel('Accuracy Value')\n",
        "ax1.set_xlabel('Epoch')\n",
        "ax1.set_title('Accuracy')\n",
        "l1 = ax1.legend(loc=\"best\")\n",
        "\n",
        "ax2.plot(epoch_list, history.history['loss'], label='Train Loss')\n",
        "ax2.plot(epoch_list, history.history['val_loss'], label='Validation Loss')\n",
        "ax2.set_xticks(np.arange(0, 9, 1))\n",
        "ax2.set_ylabel('Loss Value')\n",
        "ax2.set_xlabel('Epoch')\n",
        "ax2.set_title('Loss')\n",
        "l2 = ax2.legend(loc=\"best\")"
      ],
      "execution_count": 17,
      "outputs": [
        {
          "output_type": "display_data",
          "data": {
            "image/png": "[encoded data removed]",
            "text/plain": [
              "<Figure size 864x288 with 2 Axes>"
            ]
          },
          "metadata": {
            "tags": [],
            "needs_background": "light"
          }
        }
      ]
    },
    {
      "cell_type": "code",
      "metadata": {
        "id": "PkFRIT6k3KiC",
        "colab_type": "code",
        "colab": {
          "base_uri": "https://localhost:8080/",
          "height": 53
        },
        "outputId": "047c638c-cca1-4035-d3d9-5222e8836a3c"
      },
      "source": [
        "scores = model.evaluate(train_imgs_scaled, train_labels, batch_size = 36)\n",
        "print(\"Loss, Accuracy:\", scores)"
      ],
      "execution_count": 9,
      "outputs": [
        {
          "output_type": "stream",
          "text": [
            "338/338 [==============================] - 21s 62ms/step - loss: 7.2303e-11 - acc: 1.0000\n",
            "Loss, Accuracy: [7.230345488995482e-11, 1.0]\n"
          ],
          "name": "stdout"
        }
      ]
    },
    {
      "cell_type": "code",
      "metadata": {
        "id": "p1yqCUmE_ivG",
        "colab_type": "code",
        "colab": {
          "base_uri": "https://localhost:8080/",
          "height": 92
        },
        "outputId": "cab456cc-9e7f-47e7-9b85-786f5e4daee2"
      },
      "source": [
        "scores = model.evaluate(valid_imgs_scaled, valid_labels, batch_size = 147)\n",
        "print(\"Loss, Accuracy:\", scores)"
      ],
      "execution_count": 10,
      "outputs": [
        {
          "output_type": "stream",
          "text": [
            " 2/14 [===>..........................] - ETA: 0s - loss: 7.3335e-20 - acc: 1.0000WARNING:tensorflow:Callbacks method `on_test_batch_end` is slow compared to the batch time (batch time: 0.0426s vs `on_test_batch_end` time: 0.0723s). Check your callbacks.\n",
            "14/14 [==============================] - 1s 95ms/step - loss: 0.0025 - acc: 0.9995\n",
            "Loss, Accuracy: [0.0025098794139921665, 0.999514102935791]\n"
          ],
          "name": "stdout"
        }
      ]
    },
    {
      "cell_type": "code",
      "metadata": {
        "id": "-OLRGGtZgnmz",
        "colab_type": "code",
        "colab": {
          "base_uri": "https://localhost:8080/",
          "height": 585
        },
        "outputId": "e5f7cfe8-eb69-45df-a6c0-8699453dd014"
      },
      "source": [
        "#train confusion matrix\n",
        "batch_size = 36\n",
        "num_of_test_samples = 12134\n",
        "predictions = model.predict(train_imgs_scaled, batch_size=batch_size)\n",
        "predicted_classes = np.argmax(predictions, axis=1)\n",
        "true_classes = train_labels\n",
        "class_labels = ('boaz', 'ruinz')\n",
        "\n",
        "cm = confusion_matrix (true_classes, predicted_classes)\n",
        "def plot_confusion_matrix(cm, classes,\n",
        "                          normalize=False,\n",
        "                          title='Confusion Matrix',\n",
        "                          cmap=plt.cm.Blues):\n",
        "  plt.imshow(cm, interpolation='nearest', cmap=cmap)\n",
        "  plt.title(title)\n",
        "  plt.colorbar()\n",
        "  tick_marks = np.arange(len(classes))\n",
        "  plt.xticks(tick_marks, classes, rotation=45)\n",
        "  plt.yticks(tick_marks, classes)\n",
        "\n",
        "  if normalize:\n",
        "    cm = cm.astype('float') / cm.sum(axis=1)[:, np.newaxis]\n",
        "    print('Normalized confusion matrix')\n",
        "  else:\n",
        "    print('Confusion matrix, without normalization')\n",
        "\n",
        "  print(cm)\n",
        "\n",
        "  thresh = cm.max() / 2.\n",
        "  for i, j, in itertools.product(range(cm.shape[0]), range(cm.shape[1])):\n",
        "    plt.text(j, i, cm[i, j],\n",
        "             horizontalalignment='center',\n",
        "             color=\"white\" if cm[i, j] > thresh else \"black\")\n",
        "  plt.tight_layout()\n",
        "  plt.ylabel('True label')\n",
        "  plt.xlabel('Predicted label')\n",
        "\n",
        "cm_plot_labels = ['boas', 'ruins']\n",
        "plot_confusion_matrix(cm, cm_plot_labels, title = 'Confusion matrix')\n",
        "\n",
        "report = classification_report(true_classes, predicted_classes, target_names=class_labels)\n",
        "print(report)"
      ],
      "execution_count": 12,
      "outputs": [
        {
          "output_type": "stream",
          "text": [
            "Confusion matrix, without normalization\n",
            "[[6068    0]\n",
            " [6066    0]]\n",
            "              precision    recall  f1-score   support\n",
            "\n",
            "        boaz       0.50      1.00      0.67      6068\n",
            "       ruinz       0.00      0.00      0.00      6066\n",
            "\n",
            "    accuracy                           0.50     12134\n",
            "   macro avg       0.25      0.50      0.33     12134\n",
            "weighted avg       0.25      0.50      0.33     12134\n",
            "\n"
          ],
          "name": "stdout"
        },
        {
          "output_type": "stream",
          "text": [
            "/usr/local/lib/python3.6/dist-packages/sklearn/metrics/_classification.py:1272: UndefinedMetricWarning: Precision and F-score are ill-defined and being set to 0.0 in labels with no predicted samples. Use `zero_division` parameter to control this behavior.\n",
            "  _warn_prf(average, modifier, msg_start, len(result))\n"
          ],
          "name": "stderr"
        },
        {
          "output_type": "display_data",
          "data": {
            "image/png": "[encoded data removed]",
            "text/plain": [
              "<Figure size 432x288 with 2 Axes>"
            ]
          },
          "metadata": {
            "tags": [],
            "needs_background": "light"
          }
        }
      ]
    },
    {
      "cell_type": "code",
      "metadata": {
        "id": "6Jm4X1Jl9h7e",
        "colab_type": "code",
        "colab": {
          "base_uri": "https://localhost:8080/",
          "height": 585
        },
        "outputId": "c56b561a-e713-4869-9b6b-1411adb388a9"
      },
      "source": [
        "#matriz de confusão da validação\n",
        "batch_size = 147\n",
        "num_of_test_samples = 2058\n",
        "predictions = model.predict(valid_imgs_scaled,  batch_size=batch_size)\n",
        "predicted_classes = np.argmax(predictions, axis=1)\n",
        "true_classes = valid_labels\n",
        "class_labels = ('boas', 'ruins')\n",
        "\n",
        "cm = confusion_matrix (true_classes, predicted_classes)\n",
        "def plot_confusion_matrix(cm, classes,\n",
        "                          normalize=False,\n",
        "                          title='Confusion Matrix',\n",
        "                          cmap=plt.cm.Blues):\n",
        "  plt.imshow(cm, interpolation='nearest', cmap=cmap)\n",
        "  plt.title(title)\n",
        "  plt.colorbar()\n",
        "  tick_marks = np.arange(len(classes))\n",
        "  plt.xticks(tick_marks, classes, rotation=45)\n",
        "  plt.yticks(tick_marks, classes)\n",
        "\n",
        "  if normalize:\n",
        "    cm = cm.astype('float') / cm.sum(axis=1)[:, np.newaxis]\n",
        "    print('Normalized confusion matrix')\n",
        "  else:\n",
        "    print('Confusion matrix, without normalization')\n",
        "\n",
        "  print(cm)\n",
        "\n",
        "  thresh = cm.max() / 2.\n",
        "  for i, j, in itertools.product(range(cm.shape[0]), range(cm.shape[1])):\n",
        "    plt.text(j, i, cm[i, j],\n",
        "             horizontalalignment='center',\n",
        "             color=\"white\" if cm[i, j] > thresh else \"black\")\n",
        "  plt.tight_layout()\n",
        "  plt.ylabel('True label')\n",
        "  plt.xlabel('Predicted label')\n",
        "\n",
        "cm_plot_labels = ['boas', 'ruins']\n",
        "plot_confusion_matrix(cm, cm_plot_labels, title = 'Confusion matrix')\n",
        "\n",
        "report = classification_report(true_classes, predicted_classes, target_names=class_labels)\n",
        "print(report)"
      ],
      "execution_count": 13,
      "outputs": [
        {
          "output_type": "stream",
          "text": [
            "Confusion matrix, without normalization\n",
            "[[2022    0]\n",
            " [  36    0]]\n",
            "              precision    recall  f1-score   support\n",
            "\n",
            "        boas       0.98      1.00      0.99      2022\n",
            "       ruins       0.00      0.00      0.00        36\n",
            "\n",
            "    accuracy                           0.98      2058\n",
            "   macro avg       0.49      0.50      0.50      2058\n",
            "weighted avg       0.97      0.98      0.97      2058\n",
            "\n"
          ],
          "name": "stdout"
        },
        {
          "output_type": "stream",
          "text": [
            "/usr/local/lib/python3.6/dist-packages/sklearn/metrics/_classification.py:1272: UndefinedMetricWarning: Precision and F-score are ill-defined and being set to 0.0 in labels with no predicted samples. Use `zero_division` parameter to control this behavior.\n",
            "  _warn_prf(average, modifier, msg_start, len(result))\n"
          ],
          "name": "stderr"
        },
        {
          "output_type": "display_data",
          "data": {
            "image/png": "[encoded data removed]",
            "text/plain": [
              "<Figure size 432x288 with 2 Axes>"
            ]
          },
          "metadata": {
            "tags": [],
            "needs_background": "light"
          }
        }
      ]
    },
    {
      "cell_type": "markdown",
      "metadata": {
        "id": "aEuMrjnvvCU5",
        "colab_type": "text"
      },
      "source": [
        "Test"
      ]
    },
    {
      "cell_type": "code",
      "metadata": {
        "id": "CEIhH4c4woZp",
        "colab_type": "code",
        "colab": {}
      },
      "source": [
        "from keras.models import load_model\n",
        "model = load_model('/content/drive/My Drive/Trabalho conclusão Lucas/modelos/anel_reten_over_2.h5')"
      ],
      "execution_count": 8,
      "outputs": []
    },
    {
      "cell_type": "code",
      "metadata": {
        "id": "7wHVeUxavNp7",
        "colab_type": "code",
        "colab": {}
      },
      "source": [
        "test_files = glob.glob('/content/drive/My Drive/Trabalho conclusão Lucas/Imagens/test_data/*')\n",
        "test_imgs = [img_to_array(load_img(img, target_size=IMG_DIM)) for img in test_files]\n",
        "test_imgs = np.array(test_imgs)\n",
        "test_labels = [fn.split('/')[7].split('_')[0].strip() for fn in test_files] #conforme anteriormente cfe tamanho do caminho\n",
        "\n",
        "print('Test dataset shape:', test_imgs.shape)"
      ],
      "execution_count": null,
      "outputs": []
    },
    {
      "cell_type": "code",
      "metadata": {
        "id": "Ei4gqAsSvFDa",
        "colab_type": "code",
        "colab": {}
      },
      "source": [
        "#reescale images / encode labels\n",
        "test_imgs_scaled = test_imgs.astype('float32')\n",
        "test_imgs_scaled /= 255\n",
        "\n",
        "test_labels_enc = class2num_label_transformer(test_labels)\n",
        "\n",
        "print(test_labels[0:5], test_labels_enc[0:5])"
      ],
      "execution_count": null,
      "outputs": []
    },
    {
      "cell_type": "code",
      "metadata": {
        "id": "7WLMB726vcCr",
        "colab_type": "code",
        "colab": {}
      },
      "source": [
        "predictions = model.predict_classes(test_imgs_scaled, verbose=0)\n",
        "predictions = num2class_label_transformer(predictions)\n",
        "\n",
        "meu.display_model_performance_metrics(true_labels=test_labels, predicted_labels=predictions, \n",
        "                                      classes=list(set(test_labels)))"
      ],
      "execution_count": null,
      "outputs": []
    }
  ]
}